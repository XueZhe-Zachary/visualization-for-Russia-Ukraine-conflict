{
  "cells": [
    {
      "cell_type": "markdown",
      "metadata": {
        "id": "rf2ZYP5YdICO"
      },
      "source": [
        "import packages"
      ]
    },
    {
      "cell_type": "code",
      "execution_count": null,
      "metadata": {
        "id": "qoLXXbthuR6o",
        "vscode": {
          "languageId": "python"
        }
      },
      "outputs": [],
      "source": [
        "import numpy as np\n",
        "\n",
        "import tensorflow as tf\n",
        "import tensorflow_hub as hub\n",
        "import tensorflow_datasets as tfds\n",
        "\n",
        "import matplotlib.pyplot as plt"
      ]
    },
    {
      "cell_type": "markdown",
      "metadata": {
        "id": "mHdOnex_unZZ"
      },
      "source": [
        "load training / testing dataset"
      ]
    },
    {
      "cell_type": "code",
      "execution_count": null,
      "metadata": {
        "colab": {
          "base_uri": "https://localhost:8080/"
        },
        "id": "ssydRjwiSTWW",
        "outputId": "9c8f8e25-f5be-47ed-e5b1-505e92c4af6c",
        "vscode": {
          "languageId": "python"
        }
      },
      "outputs": [
        {
          "data": {
            "text/plain": [
              "<MapDataset element_spec=(TensorSpec(shape=(1,), dtype=tf.string, name=None), TensorSpec(shape=(1,), dtype=tf.float32, name=None))>"
            ]
          },
          "execution_count": 2,
          "metadata": {},
          "output_type": "execute_result"
        }
      ],
      "source": [
        "filepath = 'train.csv'\n",
        "default_values = ['x', 0.0]\n",
        "header = True\n",
        "\n",
        "csv_dataset = tf.data.experimental.CsvDataset(filepath, default_values, header=header)\n",
        "\n",
        "def reshape_dataset(txt, tag):\n",
        "  txt = tf.reshape(txt, shape=(1,))\n",
        "  tag = tf.reshape(tag, shape=(1,))\n",
        "  return txt, tag\n",
        "\n",
        "csv_dataset = csv_dataset.map(reshape_dataset)\n",
        "csv_dataset"
      ]
    },
    {
      "cell_type": "markdown",
      "metadata": {
        "id": "_wb5tEfyupnP"
      },
      "source": [
        "load valiadtion dataset"
      ]
    },
    {
      "cell_type": "code",
      "execution_count": null,
      "metadata": {
        "colab": {
          "base_uri": "https://localhost:8080/"
        },
        "id": "WzNrr9d47h4g",
        "outputId": "a09162a0-43eb-4b02-e1ce-b4857be36a16",
        "vscode": {
          "languageId": "python"
        }
      },
      "outputs": [
        {
          "data": {
            "text/plain": [
              "<MapDataset element_spec=(TensorSpec(shape=(1,), dtype=tf.string, name=None), TensorSpec(shape=(1,), dtype=tf.float32, name=None))>"
            ]
          },
          "execution_count": 3,
          "metadata": {},
          "output_type": "execute_result"
        }
      ],
      "source": [
        "filepath = 'validation.csv'\n",
        "default_values = ['x', 0.0]\n",
        "header = True\n",
        "\n",
        "val_dataset = tf.data.experimental.CsvDataset(filepath, default_values, header=header)\n",
        "\n",
        "val_dataset = val_dataset.map(reshape_dataset)\n",
        "val_dataset"
      ]
    },
    {
      "cell_type": "markdown",
      "metadata": {
        "id": "2-aSXr0GV9S0"
      },
      "source": [
        "print comments and its label"
      ]
    },
    {
      "cell_type": "code",
      "execution_count": null,
      "metadata": {
        "id": "I8x7t9LhVyEs",
        "vscode": {
          "languageId": "python"
        }
      },
      "outputs": [],
      "source": [
        "for entry in csv_dataset:\n",
        "    print('text: {}, tag: {}'.format(entry[0], entry[1]))"
      ]
    },
    {
      "cell_type": "code",
      "execution_count": null,
      "metadata": {
        "id": "K-jOLOO-mpO5",
        "vscode": {
          "languageId": "python"
        }
      },
      "outputs": [],
      "source": [
        "for entry in val_dataset:\n",
        "    print('text: {}, tag: {}'.format(entry[0], entry[1]))"
      ]
    },
    {
      "cell_type": "markdown",
      "metadata": {
        "id": "reHccaGpZtz0"
      },
      "source": [
        "split training and testing datasets"
      ]
    },
    {
      "cell_type": "code",
      "execution_count": null,
      "metadata": {
        "id": "MJIOGuXUZzdb",
        "vscode": {
          "languageId": "python"
        }
      },
      "outputs": [],
      "source": [
        "training = csv_dataset.take(4000)\n",
        "testing = csv_dataset.skip(4000)"
      ]
    },
    {
      "cell_type": "markdown",
      "metadata": {
        "id": "B1rkNWKgajTF"
      },
      "source": [
        "build the model"
      ]
    },
    {
      "cell_type": "code",
      "execution_count": null,
      "metadata": {
        "colab": {
          "base_uri": "https://localhost:8080/"
        },
        "id": "COwzLEsjapLy",
        "outputId": "0463d233-1996-4771-905e-fe3f33bd26e2",
        "vscode": {
          "languageId": "python"
        }
      },
      "outputs": [
        {
          "name": "stdout",
          "output_type": "stream",
          "text": [
            "Model: \"sequential\"\n",
            "_________________________________________________________________\n",
            " Layer (type)                Output Shape              Param #   \n",
            "=================================================================\n",
            " keras_layer (KerasLayer)    (None, 20)                400020    \n",
            "                                                                 \n",
            " dense (Dense)               (None, 16)                336       \n",
            "                                                                 \n",
            " dense_1 (Dense)             (None, 1)                 17        \n",
            "                                                                 \n",
            "=================================================================\n",
            "Total params: 400,373\n",
            "Trainable params: 400,373\n",
            "Non-trainable params: 0\n",
            "_________________________________________________________________\n"
          ]
        }
      ],
      "source": [
        "import tensorflow_hub as hub\n",
        "from tensorflow.keras.layers import Dropout\n",
        "\n",
        "model = \"https://tfhub.dev/google/tf2-preview/gnews-swivel-20dim/1\"\n",
        "hub_layer = hub.KerasLayer(model, output_shape=[], input_shape=[], \n",
        "                           dtype=tf.string, trainable=True)\n",
        "model = tf.keras.Sequential()\n",
        "model.add(hub_layer)\n",
        "model.add(tf.keras.layers.Dense(16, activation='relu'))\n",
        "model.add(tf.keras.layers.Dense(1))\n",
        "\n",
        "model.summary()"
      ]
    },
    {
      "cell_type": "markdown",
      "metadata": {
        "id": "sH8qiLJUxxz1"
      },
      "source": [
        "**train the model**\n",
        "\n",
        "EarlyStopping: [lnk](https://blog.csdn.net/qq_21466543/article/details/106843058)"
      ]
    },
    {
      "cell_type": "code",
      "execution_count": null,
      "metadata": {
        "colab": {
          "base_uri": "https://localhost:8080/"
        },
        "id": "FUxsW0erFQqt",
        "outputId": "f7088608-3ebb-4303-ebe4-ffe24f63c36f",
        "vscode": {
          "languageId": "python"
        }
      },
      "outputs": [
        {
          "name": "stdout",
          "output_type": "stream",
          "text": [
            "Epoch 1/50\n",
            "4553/4553 [==============================] - 27s 6ms/step - loss: 0.9304 - accuracy: 0.9337 - val_loss: 3.6483 - val_accuracy: 0.7515\n",
            "Epoch 2/50\n",
            "4553/4553 [==============================] - 28s 6ms/step - loss: 0.8397 - accuracy: 0.9398 - val_loss: 3.7460 - val_accuracy: 0.7395\n",
            "Epoch 3/50\n",
            "4553/4553 [==============================] - 28s 6ms/step - loss: 0.8160 - accuracy: 0.9429 - val_loss: 3.4763 - val_accuracy: 0.7635\n",
            "Epoch 4/50\n",
            "4553/4553 [==============================] - 29s 6ms/step - loss: 0.8209 - accuracy: 0.9427 - val_loss: 3.4344 - val_accuracy: 0.7675\n",
            "Epoch 5/50\n",
            "4553/4553 [==============================] - 27s 6ms/step - loss: 0.7663 - accuracy: 0.9468 - val_loss: 3.4048 - val_accuracy: 0.7695\n",
            "Epoch 6/50\n",
            "4553/4553 [==============================] - 26s 6ms/step - loss: 0.7276 - accuracy: 0.9482 - val_loss: 3.4928 - val_accuracy: 0.7675\n",
            "Epoch 7/50\n",
            "4553/4553 [==============================] - 26s 6ms/step - loss: 0.7058 - accuracy: 0.9504 - val_loss: 3.4334 - val_accuracy: 0.7715\n",
            "Epoch 8/50\n",
            "4553/4553 [==============================] - 27s 6ms/step - loss: 0.6895 - accuracy: 0.9504 - val_loss: 3.6153 - val_accuracy: 0.7535\n",
            "Epoch 9/50\n",
            "4553/4553 [==============================] - 26s 6ms/step - loss: 0.6871 - accuracy: 0.9526 - val_loss: 3.3178 - val_accuracy: 0.7796\n",
            "Epoch 10/50\n",
            "4553/4553 [==============================] - 26s 6ms/step - loss: 0.6854 - accuracy: 0.9519 - val_loss: 3.2770 - val_accuracy: 0.7756\n",
            "Epoch 11/50\n",
            "4553/4553 [==============================] - 28s 6ms/step - loss: 0.6634 - accuracy: 0.9539 - val_loss: 3.4013 - val_accuracy: 0.7675\n",
            "Epoch 12/50\n",
            "4553/4553 [==============================] - 28s 6ms/step - loss: 0.6801 - accuracy: 0.9532 - val_loss: 3.3611 - val_accuracy: 0.7796\n",
            "Epoch 13/50\n",
            "4553/4553 [==============================] - 29s 6ms/step - loss: 0.6801 - accuracy: 0.9530 - val_loss: 3.4075 - val_accuracy: 0.7675\n",
            "Epoch 14/50\n",
            "4553/4553 [==============================] - 30s 6ms/step - loss: 0.6169 - accuracy: 0.9512 - val_loss: 3.4752 - val_accuracy: 0.7595\n",
            "Epoch 14: early stopping\n"
          ]
        }
      ],
      "source": [
        "from keras.callbacks import EarlyStopping\n",
        "\n",
        "model.compile(   optimizer = tf.keras.optimizers.Adam(learning_rate=0.002),\n",
        "          loss=tf.losses.BinaryCrossentropy(from_logits=False),\n",
        "          metrics=[tf.metrics.BinaryAccuracy(threshold=0.5, name='accuracy')])\n",
        "\n",
        "\n",
        "early_stopping = EarlyStopping(monitor='val_accuracy', patience=5, verbose=1)\n",
        "\n",
        "history = model.fit(csv_dataset,\n",
        "                  epochs=50,\n",
        "                  batch_size=128,\n",
        "                  validation_data = val_dataset,\n",
        "                  verbose=1,\n",
        "                  callbacks=[early_stopping]\n",
        "                    )"
      ]
    },
    {
      "cell_type": "markdown",
      "metadata": {
        "id": "oFAT2YGQ0rU5"
      },
      "source": [
        "save the model"
      ]
    },
    {
      "cell_type": "code",
      "execution_count": null,
      "metadata": {
        "id": "Bd2t9XaWoNlO",
        "vscode": {
          "languageId": "python"
        }
      },
      "outputs": [],
      "source": [
        "model.save(\"model\")"
      ]
    },
    {
      "cell_type": "markdown",
      "metadata": {
        "id": "bOc7SOM71jje"
      },
      "source": [
        "load trained model"
      ]
    },
    {
      "cell_type": "code",
      "execution_count": null,
      "metadata": {
        "id": "YE0uil2y1lzW",
        "vscode": {
          "languageId": "python"
        }
      },
      "outputs": [],
      "source": [
        "from tensorflow import keras\n",
        "new_model = keras.models.load_model(\"model\")"
      ]
    },
    {
      "cell_type": "markdown",
      "metadata": {
        "id": "8WyokVRdClBq"
      },
      "source": [
        "show the performance of model"
      ]
    },
    {
      "cell_type": "code",
      "execution_count": null,
      "metadata": {
        "id": "daVSIjtKP9Fb",
        "vscode": {
          "languageId": "python"
        }
      },
      "outputs": [],
      "source": [
        "results = new_model.evaluate(testing)\n",
        "\n",
        "print(results)"
      ]
    },
    {
      "cell_type": "code",
      "execution_count": null,
      "metadata": {
        "colab": {
          "base_uri": "https://localhost:8080/"
        },
        "id": "46zHioxH9S2Y",
        "outputId": "66a4d448-0c51-464c-89d2-66d36c45733d",
        "vscode": {
          "languageId": "python"
        }
      },
      "outputs": [
        {
          "data": {
            "text/plain": [
              "dict_keys(['loss', 'accuracy', 'val_loss', 'val_accuracy'])"
            ]
          },
          "execution_count": 21,
          "metadata": {},
          "output_type": "execute_result"
        }
      ],
      "source": [
        "history_dict = history.history\n",
        "history_dict.keys()"
      ]
    },
    {
      "cell_type": "markdown",
      "metadata": {
        "id": "WJYNOlcxyBZh"
      },
      "source": [
        "Create a graph of accuracy and loss over time"
      ]
    },
    {
      "cell_type": "code",
      "execution_count": null,
      "metadata": {
        "id": "gOjsHsOsFlwM",
        "vscode": {
          "languageId": "python"
        }
      },
      "outputs": [],
      "source": [
        "acc = history_dict['accuracy']\n",
        "val_acc = history_dict['val_accuracy']\n",
        "loss = history_dict['loss']\n",
        "val_loss = history_dict['val_loss']\n",
        "\n",
        "epochs = range(1, len(acc) + 1)\n",
        "\n",
        "# \"bo\" is for \"blue dot\"\n",
        "plt.plot(epochs, loss, 'bo', label='Training loss')\n",
        "# b is for \"solid blue line\"\n",
        "plt.plot(epochs, val_loss, 'b', label='Validation loss')\n",
        "plt.title('Training and validation loss')\n",
        "plt.xlabel('Epochs')\n",
        "plt.ylabel('Loss')\n",
        "plt.legend()\n",
        "\n",
        "plt.show()"
      ]
    },
    {
      "cell_type": "code",
      "execution_count": null,
      "metadata": {
        "id": "peGBJMZKDPyR",
        "vscode": {
          "languageId": "python"
        }
      },
      "outputs": [],
      "source": [
        "plt.clf()   # clear figure\n",
        "\n",
        "plt.plot(epochs, acc, 'bo', label='Training acc')\n",
        "plt.plot(epochs, val_acc, 'b', label='Validation acc')\n",
        "plt.title('Training and validation accuracy')\n",
        "plt.xlabel('Epochs')\n",
        "plt.ylabel('Accuracy')\n",
        "plt.legend()\n",
        "\n",
        "plt.show()"
      ]
    },
    {
      "cell_type": "markdown",
      "metadata": {
        "id": "y-F12ytayEY3"
      },
      "source": [
        "use the model to make predictions"
      ]
    },
    {
      "cell_type": "code",
      "execution_count": null,
      "metadata": {
        "id": "sD5eEureW8i4",
        "vscode": {
          "languageId": "python"
        }
      },
      "outputs": [],
      "source": [
        "import numpy as np\n",
        "import pandas as pd\n",
        "import csv\n",
        "import tensorflow as tf\n",
        "\n",
        "\n",
        "#open csv file containing comments need to be predicted\n",
        "filepath = 'comment_4.csv'\n",
        "default_values = ['x', 0.0]\n",
        "header = True\n",
        "\n",
        "prediction_dataset = tf.data.experimental.CsvDataset(filepath, default_values, header=header)\n",
        "prediction_dataset = prediction_dataset.map(reshape_dataset)\n",
        "prediction_dataset\n",
        "\n",
        "predictions = new_model.predict(prediction_dataset) \n",
        "print(predictions) \n",
        "\n",
        "#write prediction into a file\n",
        "file = open('output.csv', 'w+', newline ='') \n",
        "with file:   \n",
        "    write = csv.writer(file)\n",
        "    write.writerows(predictions)"
      ]
    }
  ],
  "metadata": {
    "colab": {
      "provenance": []
    },
    "gpuClass": "standard",
    "kernelspec": {
      "display_name": "Python 3",
      "name": "python3"
    }
  },
  "nbformat": 4,
  "nbformat_minor": 0
}
